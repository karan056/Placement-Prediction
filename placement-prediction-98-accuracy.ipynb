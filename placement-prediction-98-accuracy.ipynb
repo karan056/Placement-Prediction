{
 "cells": [
  {
   "cell_type": "code",
   "execution_count": 1,
   "id": "9cc498eb",
   "metadata": {
    "execution": {
     "iopub.execute_input": "2024-02-13T10:37:53.166293Z",
     "iopub.status.busy": "2024-02-13T10:37:53.165876Z",
     "iopub.status.idle": "2024-02-13T10:37:56.047979Z",
     "shell.execute_reply": "2024-02-13T10:37:56.043854Z"
    },
    "papermill": {
     "duration": 2.900946,
     "end_time": "2024-02-13T10:37:56.050665",
     "exception": true,
     "start_time": "2024-02-13T10:37:53.149719",
     "status": "failed"
    },
    "tags": []
   },
   "outputs": [
    {
     "name": "stderr",
     "output_type": "stream",
     "text": [
      "UsageError: Line magic function `%matplotlib.inline` not found.\n"
     ]
    }
   ],
   "source": [
    "import pandas as pd\n",
    "import numpy as np\n",
    "import seaborn as sns\n",
    "import matplotlib.pyplot as plt\n",
    "%matplotlib.inline"
   ]
  },
  {
   "cell_type": "code",
   "execution_count": null,
   "id": "843a118e",
   "metadata": {
    "execution": {
     "iopub.status.busy": "2024-01-21T08:31:40.688801Z",
     "iopub.status.idle": "2024-01-21T08:31:40.689732Z",
     "shell.execute_reply": "2024-01-21T08:31:40.689515Z",
     "shell.execute_reply.started": "2024-01-21T08:31:40.689487Z"
    },
    "papermill": {
     "duration": null,
     "end_time": null,
     "exception": null,
     "start_time": null,
     "status": "pending"
    },
    "tags": []
   },
   "outputs": [],
   "source": [
    "df=pd.read_csv('/kaggle/input/placement-data-full-class/Placement_data_full_class.csv')"
   ]
  },
  {
   "cell_type": "code",
   "execution_count": null,
   "id": "6f53df32",
   "metadata": {
    "execution": {
     "iopub.execute_input": "2024-01-21T08:31:40.697746Z",
     "iopub.status.busy": "2024-01-21T08:31:40.697109Z",
     "iopub.status.idle": "2024-01-21T08:31:40.740818Z",
     "shell.execute_reply": "2024-01-21T08:31:40.739899Z",
     "shell.execute_reply.started": "2024-01-21T08:31:40.697696Z"
    },
    "papermill": {
     "duration": null,
     "end_time": null,
     "exception": null,
     "start_time": null,
     "status": "pending"
    },
    "tags": []
   },
   "outputs": [],
   "source": [
    "df.head(50)"
   ]
  },
  {
   "cell_type": "code",
   "execution_count": null,
   "id": "d5f697bb",
   "metadata": {
    "execution": {
     "iopub.execute_input": "2024-01-21T08:31:40.742712Z",
     "iopub.status.busy": "2024-01-21T08:31:40.742442Z",
     "iopub.status.idle": "2024-01-21T08:31:40.774541Z",
     "shell.execute_reply": "2024-01-21T08:31:40.773446Z",
     "shell.execute_reply.started": "2024-01-21T08:31:40.742687Z"
    },
    "papermill": {
     "duration": null,
     "end_time": null,
     "exception": null,
     "start_time": null,
     "status": "pending"
    },
    "tags": []
   },
   "outputs": [],
   "source": [
    "df.describe()"
   ]
  },
  {
   "cell_type": "code",
   "execution_count": null,
   "id": "1e2952ba",
   "metadata": {
    "execution": {
     "iopub.execute_input": "2024-01-21T08:31:40.776643Z",
     "iopub.status.busy": "2024-01-21T08:31:40.775960Z",
     "iopub.status.idle": "2024-01-21T08:31:40.817769Z",
     "shell.execute_reply": "2024-01-21T08:31:40.816340Z",
     "shell.execute_reply.started": "2024-01-21T08:31:40.776610Z"
    },
    "papermill": {
     "duration": null,
     "end_time": null,
     "exception": null,
     "start_time": null,
     "status": "pending"
    },
    "tags": []
   },
   "outputs": [],
   "source": [
    "df.info()"
   ]
  },
  {
   "cell_type": "code",
   "execution_count": null,
   "id": "0fd24f43",
   "metadata": {
    "execution": {
     "iopub.execute_input": "2024-01-21T08:31:40.820781Z",
     "iopub.status.busy": "2024-01-21T08:31:40.820087Z",
     "iopub.status.idle": "2024-01-21T08:31:40.832320Z",
     "shell.execute_reply": "2024-01-21T08:31:40.830333Z",
     "shell.execute_reply.started": "2024-01-21T08:31:40.820740Z"
    },
    "papermill": {
     "duration": null,
     "end_time": null,
     "exception": null,
     "start_time": null,
     "status": "pending"
    },
    "tags": []
   },
   "outputs": [],
   "source": [
    "df.isnull().sum()"
   ]
  },
  {
   "cell_type": "code",
   "execution_count": null,
   "id": "689e9871",
   "metadata": {
    "execution": {
     "iopub.execute_input": "2024-01-21T08:31:40.835745Z",
     "iopub.status.busy": "2024-01-21T08:31:40.833919Z",
     "iopub.status.idle": "2024-01-21T08:31:40.847994Z",
     "shell.execute_reply": "2024-01-21T08:31:40.847099Z",
     "shell.execute_reply.started": "2024-01-21T08:31:40.835680Z"
    },
    "papermill": {
     "duration": null,
     "end_time": null,
     "exception": null,
     "start_time": null,
     "status": "pending"
    },
    "tags": []
   },
   "outputs": [],
   "source": [
    "df.shape"
   ]
  },
  {
   "cell_type": "code",
   "execution_count": null,
   "id": "89e546a4",
   "metadata": {
    "execution": {
     "iopub.execute_input": "2024-01-21T08:31:40.850158Z",
     "iopub.status.busy": "2024-01-21T08:31:40.849121Z",
     "iopub.status.idle": "2024-01-21T08:31:41.261499Z",
     "shell.execute_reply": "2024-01-21T08:31:41.260278Z",
     "shell.execute_reply.started": "2024-01-21T08:31:40.850123Z"
    },
    "papermill": {
     "duration": null,
     "end_time": null,
     "exception": null,
     "start_time": null,
     "status": "pending"
    },
    "tags": []
   },
   "outputs": [],
   "source": [
    "sns.distplot(df['salary'])"
   ]
  },
  {
   "cell_type": "code",
   "execution_count": null,
   "id": "9c835e39",
   "metadata": {
    "execution": {
     "iopub.execute_input": "2024-01-21T08:31:41.267782Z",
     "iopub.status.busy": "2024-01-21T08:31:41.263027Z",
     "iopub.status.idle": "2024-01-21T08:31:41.457285Z",
     "shell.execute_reply": "2024-01-21T08:31:41.454963Z",
     "shell.execute_reply.started": "2024-01-21T08:31:41.267691Z"
    },
    "papermill": {
     "duration": null,
     "end_time": null,
     "exception": null,
     "start_time": null,
     "status": "pending"
    },
    "tags": []
   },
   "outputs": [],
   "source": [
    "sns.boxplot(df['salary'])"
   ]
  },
  {
   "cell_type": "code",
   "execution_count": null,
   "id": "3da40d18",
   "metadata": {
    "execution": {
     "iopub.execute_input": "2024-01-21T08:31:41.459715Z",
     "iopub.status.busy": "2024-01-21T08:31:41.459293Z",
     "iopub.status.idle": "2024-01-21T08:31:41.789435Z",
     "shell.execute_reply": "2024-01-21T08:31:41.788200Z",
     "shell.execute_reply.started": "2024-01-21T08:31:41.459677Z"
    },
    "papermill": {
     "duration": null,
     "end_time": null,
     "exception": null,
     "start_time": null,
     "status": "pending"
    },
    "tags": []
   },
   "outputs": [],
   "source": [
    "sns.barplot(x='hsc_s',y='salary',data=df)"
   ]
  },
  {
   "cell_type": "code",
   "execution_count": null,
   "id": "dbaae55f",
   "metadata": {
    "execution": {
     "iopub.execute_input": "2024-01-21T08:32:27.710169Z",
     "iopub.status.busy": "2024-01-21T08:32:27.709669Z",
     "iopub.status.idle": "2024-01-21T08:32:27.981342Z",
     "shell.execute_reply": "2024-01-21T08:32:27.980272Z",
     "shell.execute_reply.started": "2024-01-21T08:32:27.710129Z"
    },
    "papermill": {
     "duration": null,
     "end_time": null,
     "exception": null,
     "start_time": null,
     "status": "pending"
    },
    "tags": []
   },
   "outputs": [],
   "source": [
    "sns.barplot(x='status',y='specialisation',data=df)"
   ]
  },
  {
   "cell_type": "code",
   "execution_count": null,
   "id": "75671b2e",
   "metadata": {
    "execution": {
     "iopub.execute_input": "2024-01-21T08:32:30.405068Z",
     "iopub.status.busy": "2024-01-21T08:32:30.404595Z",
     "iopub.status.idle": "2024-01-21T08:32:30.615344Z",
     "shell.execute_reply": "2024-01-21T08:32:30.613472Z",
     "shell.execute_reply.started": "2024-01-21T08:32:30.405040Z"
    },
    "papermill": {
     "duration": null,
     "end_time": null,
     "exception": null,
     "start_time": null,
     "status": "pending"
    },
    "tags": []
   },
   "outputs": [],
   "source": [
    "sns.barplot(x='workex',y='salary',data=df)"
   ]
  },
  {
   "cell_type": "code",
   "execution_count": null,
   "id": "dc9b7ced",
   "metadata": {
    "execution": {
     "iopub.execute_input": "2024-01-21T08:32:33.048876Z",
     "iopub.status.busy": "2024-01-21T08:32:33.048371Z",
     "iopub.status.idle": "2024-01-21T08:32:33.272745Z",
     "shell.execute_reply": "2024-01-21T08:32:33.270721Z",
     "shell.execute_reply.started": "2024-01-21T08:32:33.048833Z"
    },
    "papermill": {
     "duration": null,
     "end_time": null,
     "exception": null,
     "start_time": null,
     "status": "pending"
    },
    "tags": []
   },
   "outputs": [],
   "source": [
    "sns.barplot(x='status',y='degree_p',data=df)"
   ]
  },
  {
   "cell_type": "code",
   "execution_count": null,
   "id": "6f4ba43e",
   "metadata": {
    "execution": {
     "iopub.execute_input": "2024-01-21T08:32:35.669646Z",
     "iopub.status.busy": "2024-01-21T08:32:35.669104Z",
     "iopub.status.idle": "2024-01-21T08:32:35.883471Z",
     "shell.execute_reply": "2024-01-21T08:32:35.882148Z",
     "shell.execute_reply.started": "2024-01-21T08:32:35.669610Z"
    },
    "papermill": {
     "duration": null,
     "end_time": null,
     "exception": null,
     "start_time": null,
     "status": "pending"
    },
    "tags": []
   },
   "outputs": [],
   "source": [
    "sns.barplot(x='status',y='workex',data=df)"
   ]
  },
  {
   "cell_type": "code",
   "execution_count": null,
   "id": "7480c0cd",
   "metadata": {
    "execution": {
     "iopub.execute_input": "2024-01-21T08:32:39.273550Z",
     "iopub.status.busy": "2024-01-21T08:32:39.273007Z",
     "iopub.status.idle": "2024-01-21T08:32:39.502408Z",
     "shell.execute_reply": "2024-01-21T08:32:39.500501Z",
     "shell.execute_reply.started": "2024-01-21T08:32:39.273506Z"
    },
    "papermill": {
     "duration": null,
     "end_time": null,
     "exception": null,
     "start_time": null,
     "status": "pending"
    },
    "tags": []
   },
   "outputs": [],
   "source": [
    "plt.scatter(x='salary',y='degree_p',data=df)\n",
    "plt.xlabel('Salary')\n",
    "plt.ylabel('Degree percentage')"
   ]
  },
  {
   "cell_type": "code",
   "execution_count": null,
   "id": "ec099375",
   "metadata": {
    "execution": {
     "iopub.execute_input": "2024-01-21T08:32:00.189343Z",
     "iopub.status.busy": "2024-01-21T08:32:00.188850Z",
     "iopub.status.idle": "2024-01-21T08:32:00.420662Z",
     "shell.execute_reply": "2024-01-21T08:32:00.419520Z",
     "shell.execute_reply.started": "2024-01-21T08:32:00.189301Z"
    },
    "papermill": {
     "duration": null,
     "end_time": null,
     "exception": null,
     "start_time": null,
     "status": "pending"
    },
    "tags": []
   },
   "outputs": [],
   "source": [
    "plt.scatter(x='salary',y='mba_p',data=df)\n",
    "plt.xlabel('Salary')\n",
    "plt.ylabel('MBA percentage')"
   ]
  },
  {
   "cell_type": "code",
   "execution_count": null,
   "id": "8c56302e",
   "metadata": {
    "execution": {
     "iopub.execute_input": "2024-01-21T08:32:44.125583Z",
     "iopub.status.busy": "2024-01-21T08:32:44.124364Z",
     "iopub.status.idle": "2024-01-21T08:32:44.138484Z",
     "shell.execute_reply": "2024-01-21T08:32:44.136428Z",
     "shell.execute_reply.started": "2024-01-21T08:32:44.125529Z"
    },
    "papermill": {
     "duration": null,
     "end_time": null,
     "exception": null,
     "start_time": null,
     "status": "pending"
    },
    "tags": []
   },
   "outputs": [],
   "source": [
    "from sklearn.preprocessing import LabelEncoder\n",
    "encoder = LabelEncoder()\n",
    "df['gender']=encoder.fit_transform(df['gender'])\n",
    "df['ssc_b']=encoder.fit_transform(df['ssc_b'])\n",
    "df['hsc_b']=encoder.fit_transform(df['hsc_b'])\n",
    "df['hsc_s']=encoder.fit_transform(df['hsc_s'])\n",
    "df['degree_t']=encoder.fit_transform(df['degree_t'])\n",
    "df['workex']=encoder.fit_transform(df['workex'])\n",
    "df['specialisation']=encoder.fit_transform(df['specialisation'])\n",
    "df['status']=encoder.fit_transform(df['status'])\n",
    "\n"
   ]
  },
  {
   "cell_type": "code",
   "execution_count": null,
   "id": "776d387a",
   "metadata": {
    "execution": {
     "iopub.execute_input": "2024-01-21T08:32:46.267393Z",
     "iopub.status.busy": "2024-01-21T08:32:46.266886Z",
     "iopub.status.idle": "2024-01-21T08:32:46.295253Z",
     "shell.execute_reply": "2024-01-21T08:32:46.293632Z",
     "shell.execute_reply.started": "2024-01-21T08:32:46.267352Z"
    },
    "papermill": {
     "duration": null,
     "end_time": null,
     "exception": null,
     "start_time": null,
     "status": "pending"
    },
    "tags": []
   },
   "outputs": [],
   "source": [
    "df"
   ]
  },
  {
   "cell_type": "code",
   "execution_count": null,
   "id": "7956cb98",
   "metadata": {
    "execution": {
     "iopub.execute_input": "2024-01-21T08:32:48.593002Z",
     "iopub.status.busy": "2024-01-21T08:32:48.590884Z",
     "iopub.status.idle": "2024-01-21T08:32:48.605304Z",
     "shell.execute_reply": "2024-01-21T08:32:48.603582Z",
     "shell.execute_reply.started": "2024-01-21T08:32:48.592910Z"
    },
    "papermill": {
     "duration": null,
     "end_time": null,
     "exception": null,
     "start_time": null,
     "status": "pending"
    },
    "tags": []
   },
   "outputs": [],
   "source": [
    "df['salary'].mode()"
   ]
  },
  {
   "cell_type": "code",
   "execution_count": null,
   "id": "1e27ad18",
   "metadata": {
    "execution": {
     "iopub.execute_input": "2024-01-21T08:32:50.205859Z",
     "iopub.status.busy": "2024-01-21T08:32:50.205411Z",
     "iopub.status.idle": "2024-01-21T08:32:50.213514Z",
     "shell.execute_reply": "2024-01-21T08:32:50.211256Z",
     "shell.execute_reply.started": "2024-01-21T08:32:50.205826Z"
    },
    "papermill": {
     "duration": null,
     "end_time": null,
     "exception": null,
     "start_time": null,
     "status": "pending"
    },
    "tags": []
   },
   "outputs": [],
   "source": [
    "#df.replace('\\t?', float('nan'), inplace=True)  # Replace '\\t?' with NaN\n",
    "\n",
    "\n",
    "#df['salary'] = pd.to_numeric(df['salary'], errors='coerce')\n",
    "\n",
    "# Drop rows with missing values\n",
    "#df.dropna(inplace=True)"
   ]
  },
  {
   "cell_type": "code",
   "execution_count": null,
   "id": "3c428bef",
   "metadata": {
    "execution": {
     "iopub.execute_input": "2024-01-21T08:32:11.374724Z",
     "iopub.status.busy": "2024-01-21T08:32:11.373869Z",
     "iopub.status.idle": "2024-01-21T08:32:11.380758Z",
     "shell.execute_reply": "2024-01-21T08:32:11.378314Z",
     "shell.execute_reply.started": "2024-01-21T08:32:11.374674Z"
    },
    "papermill": {
     "duration": null,
     "end_time": null,
     "exception": null,
     "start_time": null,
     "status": "pending"
    },
    "tags": []
   },
   "outputs": [],
   "source": [
    "#from fancyimpute import KNN\n",
    "#knn_imputer = KNN()\n",
    "#df['salary'] = knn_imputer.fit_transform(df['salary'])\n",
    "#print(df['salary'])"
   ]
  },
  {
   "cell_type": "code",
   "execution_count": null,
   "id": "6c6c61c2",
   "metadata": {
    "execution": {
     "iopub.execute_input": "2024-01-21T08:32:12.813500Z",
     "iopub.status.busy": "2024-01-21T08:32:12.812922Z",
     "iopub.status.idle": "2024-01-21T08:32:12.820148Z",
     "shell.execute_reply": "2024-01-21T08:32:12.818454Z",
     "shell.execute_reply.started": "2024-01-21T08:32:12.813460Z"
    },
    "papermill": {
     "duration": null,
     "end_time": null,
     "exception": null,
     "start_time": null,
     "status": "pending"
    },
    "tags": []
   },
   "outputs": [],
   "source": [
    "#df['salary'] = pd.DataFrame(df['salary'], columns =['salary'])"
   ]
  },
  {
   "cell_type": "code",
   "execution_count": null,
   "id": "ecba4ec0",
   "metadata": {
    "execution": {
     "iopub.execute_input": "2024-01-21T08:32:13.752950Z",
     "iopub.status.busy": "2024-01-21T08:32:13.752463Z",
     "iopub.status.idle": "2024-01-21T08:32:13.758740Z",
     "shell.execute_reply": "2024-01-21T08:32:13.757726Z",
     "shell.execute_reply.started": "2024-01-21T08:32:13.752909Z"
    },
    "papermill": {
     "duration": null,
     "end_time": null,
     "exception": null,
     "start_time": null,
     "status": "pending"
    },
    "tags": []
   },
   "outputs": [],
   "source": [
    "#df['salary'] = df['salary'].fillna(df['salary'].mode()[0])"
   ]
  },
  {
   "cell_type": "code",
   "execution_count": null,
   "id": "48b93392",
   "metadata": {
    "execution": {
     "iopub.execute_input": "2024-01-21T08:32:52.473859Z",
     "iopub.status.busy": "2024-01-21T08:32:52.473403Z",
     "iopub.status.idle": "2024-01-21T08:32:52.481992Z",
     "shell.execute_reply": "2024-01-21T08:32:52.480339Z",
     "shell.execute_reply.started": "2024-01-21T08:32:52.473824Z"
    },
    "papermill": {
     "duration": null,
     "end_time": null,
     "exception": null,
     "start_time": null,
     "status": "pending"
    },
    "tags": []
   },
   "outputs": [],
   "source": [
    "df['salary'] = df['salary'].fillna(df['salary'].median())"
   ]
  },
  {
   "cell_type": "code",
   "execution_count": null,
   "id": "5bee0d6d",
   "metadata": {
    "execution": {
     "iopub.execute_input": "2024-01-21T08:32:53.645212Z",
     "iopub.status.busy": "2024-01-21T08:32:53.644683Z",
     "iopub.status.idle": "2024-01-21T08:32:53.690053Z",
     "shell.execute_reply": "2024-01-21T08:32:53.687303Z",
     "shell.execute_reply.started": "2024-01-21T08:32:53.645147Z"
    },
    "papermill": {
     "duration": null,
     "end_time": null,
     "exception": null,
     "start_time": null,
     "status": "pending"
    },
    "tags": []
   },
   "outputs": [],
   "source": [
    "df.head(50)"
   ]
  },
  {
   "cell_type": "code",
   "execution_count": null,
   "id": "85d0b118",
   "metadata": {
    "execution": {
     "iopub.execute_input": "2024-01-21T08:32:57.056477Z",
     "iopub.status.busy": "2024-01-21T08:32:57.054361Z",
     "iopub.status.idle": "2024-01-21T08:32:57.065133Z",
     "shell.execute_reply": "2024-01-21T08:32:57.063564Z",
     "shell.execute_reply.started": "2024-01-21T08:32:57.056392Z"
    },
    "papermill": {
     "duration": null,
     "end_time": null,
     "exception": null,
     "start_time": null,
     "status": "pending"
    },
    "tags": []
   },
   "outputs": [],
   "source": [
    "X=df.drop('status',axis=1)\n",
    "y=df['status']"
   ]
  },
  {
   "cell_type": "code",
   "execution_count": null,
   "id": "a976d22d",
   "metadata": {
    "execution": {
     "iopub.execute_input": "2024-01-21T08:32:57.982440Z",
     "iopub.status.busy": "2024-01-21T08:32:57.981924Z",
     "iopub.status.idle": "2024-01-21T08:32:58.146142Z",
     "shell.execute_reply": "2024-01-21T08:32:58.144396Z",
     "shell.execute_reply.started": "2024-01-21T08:32:57.982398Z"
    },
    "papermill": {
     "duration": null,
     "end_time": null,
     "exception": null,
     "start_time": null,
     "status": "pending"
    },
    "tags": []
   },
   "outputs": [],
   "source": [
    "from sklearn.model_selection import train_test_split\n",
    "X_train,X_test,y_train,y_test = train_test_split(X,y,test_size=0.3,random_state=101)"
   ]
  },
  {
   "cell_type": "code",
   "execution_count": null,
   "id": "635f65af",
   "metadata": {
    "execution": {
     "iopub.execute_input": "2024-01-21T08:32:58.773964Z",
     "iopub.status.busy": "2024-01-21T08:32:58.773498Z",
     "iopub.status.idle": "2024-01-21T08:32:59.020553Z",
     "shell.execute_reply": "2024-01-21T08:32:59.018178Z",
     "shell.execute_reply.started": "2024-01-21T08:32:58.773926Z"
    },
    "papermill": {
     "duration": null,
     "end_time": null,
     "exception": null,
     "start_time": null,
     "status": "pending"
    },
    "tags": []
   },
   "outputs": [],
   "source": [
    "from sklearn.neighbors import KNeighborsClassifier\n",
    "knn=KNeighborsClassifier(n_neighbors=2)\n",
    "knn.fit(X_train,y_train)\n"
   ]
  },
  {
   "cell_type": "code",
   "execution_count": null,
   "id": "c00cc432",
   "metadata": {
    "execution": {
     "iopub.execute_input": "2024-01-21T08:33:00.933490Z",
     "iopub.status.busy": "2024-01-21T08:33:00.933070Z",
     "iopub.status.idle": "2024-01-21T08:33:00.950917Z",
     "shell.execute_reply": "2024-01-21T08:33:00.948330Z",
     "shell.execute_reply.started": "2024-01-21T08:33:00.933464Z"
    },
    "papermill": {
     "duration": null,
     "end_time": null,
     "exception": null,
     "start_time": null,
     "status": "pending"
    },
    "tags": []
   },
   "outputs": [],
   "source": [
    "y_pred=knn.predict(X_test)"
   ]
  },
  {
   "cell_type": "code",
   "execution_count": null,
   "id": "865cd24f",
   "metadata": {
    "execution": {
     "iopub.execute_input": "2024-01-21T08:33:01.692284Z",
     "iopub.status.busy": "2024-01-21T08:33:01.691848Z",
     "iopub.status.idle": "2024-01-21T08:33:01.706709Z",
     "shell.execute_reply": "2024-01-21T08:33:01.705276Z",
     "shell.execute_reply.started": "2024-01-21T08:33:01.692257Z"
    },
    "papermill": {
     "duration": null,
     "end_time": null,
     "exception": null,
     "start_time": null,
     "status": "pending"
    },
    "tags": []
   },
   "outputs": [],
   "source": [
    "from sklearn.metrics import classification_report, confusion_matrix,f1_score, accuracy_score\n",
    "\n",
    "print(classification_report(y_test,y_pred))"
   ]
  },
  {
   "cell_type": "code",
   "execution_count": null,
   "id": "fd11e444",
   "metadata": {
    "execution": {
     "iopub.execute_input": "2024-01-21T08:33:03.337870Z",
     "iopub.status.busy": "2024-01-21T08:33:03.337422Z",
     "iopub.status.idle": "2024-01-21T08:33:03.345999Z",
     "shell.execute_reply": "2024-01-21T08:33:03.344385Z",
     "shell.execute_reply.started": "2024-01-21T08:33:03.337840Z"
    },
    "papermill": {
     "duration": null,
     "end_time": null,
     "exception": null,
     "start_time": null,
     "status": "pending"
    },
    "tags": []
   },
   "outputs": [],
   "source": [
    "print(confusion_matrix(y_test,y_pred))"
   ]
  },
  {
   "cell_type": "code",
   "execution_count": null,
   "id": "9f494a84",
   "metadata": {
    "execution": {
     "iopub.execute_input": "2024-01-21T08:33:04.668843Z",
     "iopub.status.busy": "2024-01-21T08:33:04.668398Z",
     "iopub.status.idle": "2024-01-21T08:33:04.682012Z",
     "shell.execute_reply": "2024-01-21T08:33:04.680137Z",
     "shell.execute_reply.started": "2024-01-21T08:33:04.668812Z"
    },
    "papermill": {
     "duration": null,
     "end_time": null,
     "exception": null,
     "start_time": null,
     "status": "pending"
    },
    "tags": []
   },
   "outputs": [],
   "source": [
    "f1_score(y_test,y_pred)"
   ]
  },
  {
   "cell_type": "code",
   "execution_count": null,
   "id": "49070fa2",
   "metadata": {
    "execution": {
     "iopub.execute_input": "2024-01-21T08:33:06.022058Z",
     "iopub.status.busy": "2024-01-21T08:33:06.021639Z",
     "iopub.status.idle": "2024-01-21T08:33:06.034645Z",
     "shell.execute_reply": "2024-01-21T08:33:06.032371Z",
     "shell.execute_reply.started": "2024-01-21T08:33:06.022031Z"
    },
    "papermill": {
     "duration": null,
     "end_time": null,
     "exception": null,
     "start_time": null,
     "status": "pending"
    },
    "tags": []
   },
   "outputs": [],
   "source": [
    "accuracy_score(y_test,y_pred)"
   ]
  },
  {
   "cell_type": "code",
   "execution_count": null,
   "id": "fe5c6524",
   "metadata": {
    "execution": {
     "iopub.execute_input": "2024-01-21T08:33:07.747403Z",
     "iopub.status.busy": "2024-01-21T08:33:07.746928Z",
     "iopub.status.idle": "2024-01-21T08:33:09.872213Z",
     "shell.execute_reply": "2024-01-21T08:33:09.870867Z",
     "shell.execute_reply.started": "2024-01-21T08:33:07.747365Z"
    },
    "papermill": {
     "duration": null,
     "end_time": null,
     "exception": null,
     "start_time": null,
     "status": "pending"
    },
    "tags": []
   },
   "outputs": [],
   "source": [
    "from sklearn.ensemble import RandomForestClassifier\n",
    "value=[]\n",
    "i_val=[]\n",
    "for i in range(1,50,1):\n",
    " rf=RandomForestClassifier(n_estimators=i)\n",
    " rf.fit(X_train,y_train)\n",
    " y_pred1=rf.predict(X_test)\n",
    " value.append(accuracy_score(y_test,y_pred1))\n",
    " i_val.append(i)"
   ]
  },
  {
   "cell_type": "code",
   "execution_count": null,
   "id": "7306b204",
   "metadata": {
    "execution": {
     "iopub.execute_input": "2024-01-21T08:33:09.875168Z",
     "iopub.status.busy": "2024-01-21T08:33:09.874691Z",
     "iopub.status.idle": "2024-01-21T08:33:09.884500Z",
     "shell.execute_reply": "2024-01-21T08:33:09.883598Z",
     "shell.execute_reply.started": "2024-01-21T08:33:09.875124Z"
    },
    "papermill": {
     "duration": null,
     "end_time": null,
     "exception": null,
     "start_time": null,
     "status": "pending"
    },
    "tags": []
   },
   "outputs": [],
   "source": [
    "max(value)"
   ]
  },
  {
   "cell_type": "code",
   "execution_count": null,
   "id": "850242a2",
   "metadata": {
    "execution": {
     "iopub.execute_input": "2024-01-21T08:33:10.081852Z",
     "iopub.status.busy": "2024-01-21T08:33:10.080255Z",
     "iopub.status.idle": "2024-01-21T08:33:10.092805Z",
     "shell.execute_reply": "2024-01-21T08:33:10.090404Z",
     "shell.execute_reply.started": "2024-01-21T08:33:10.081803Z"
    },
    "papermill": {
     "duration": null,
     "end_time": null,
     "exception": null,
     "start_time": null,
     "status": "pending"
    },
    "tags": []
   },
   "outputs": [],
   "source": [
    "df1=pd.DataFrame(value,index=i_val,columns=['Values'])\n",
    "df1.head"
   ]
  },
  {
   "cell_type": "code",
   "execution_count": null,
   "id": "89fae54d",
   "metadata": {
    "execution": {
     "iopub.execute_input": "2024-01-21T08:33:12.773003Z",
     "iopub.status.busy": "2024-01-21T08:33:12.772366Z",
     "iopub.status.idle": "2024-01-21T08:33:12.833182Z",
     "shell.execute_reply": "2024-01-21T08:33:12.831227Z",
     "shell.execute_reply.started": "2024-01-21T08:33:12.772971Z"
    },
    "papermill": {
     "duration": null,
     "end_time": null,
     "exception": null,
     "start_time": null,
     "status": "pending"
    },
    "tags": []
   },
   "outputs": [],
   "source": [
    "rf=RandomForestClassifier(n_estimators=26)\n",
    "rf.fit(X_train,y_train)\n",
    "y_pred1=rf.predict(X_test)\n",
    "print(classification_report(y_test,y_pred1))\n",
    "print(accuracy_score(y_test,y_pred1))"
   ]
  },
  {
   "cell_type": "code",
   "execution_count": null,
   "id": "165bdd3f",
   "metadata": {
    "execution": {
     "iopub.execute_input": "2024-01-21T08:33:14.389388Z",
     "iopub.status.busy": "2024-01-21T08:33:14.388845Z",
     "iopub.status.idle": "2024-01-21T08:33:14.411263Z",
     "shell.execute_reply": "2024-01-21T08:33:14.409985Z",
     "shell.execute_reply.started": "2024-01-21T08:33:14.389349Z"
    },
    "papermill": {
     "duration": null,
     "end_time": null,
     "exception": null,
     "start_time": null,
     "status": "pending"
    },
    "tags": []
   },
   "outputs": [],
   "source": [
    "from sklearn.tree import DecisionTreeClassifier\n",
    "dt=DecisionTreeClassifier(criterion='gini')\n",
    "dt.fit(X_train,y_train)\n",
    "y_pred2=dt.predict(X_test)\n",
    "print(classification_report(y_test,y_pred2))"
   ]
  },
  {
   "cell_type": "code",
   "execution_count": null,
   "id": "1d6e08e9",
   "metadata": {
    "execution": {
     "iopub.execute_input": "2024-01-21T08:33:16.077934Z",
     "iopub.status.busy": "2024-01-21T08:33:16.077465Z",
     "iopub.status.idle": "2024-01-21T08:33:16.089216Z",
     "shell.execute_reply": "2024-01-21T08:33:16.088031Z",
     "shell.execute_reply.started": "2024-01-21T08:33:16.077897Z"
    },
    "papermill": {
     "duration": null,
     "end_time": null,
     "exception": null,
     "start_time": null,
     "status": "pending"
    },
    "tags": []
   },
   "outputs": [],
   "source": [
    "confusion_matrix(y_test,y_pred2)"
   ]
  },
  {
   "cell_type": "code",
   "execution_count": null,
   "id": "c9b25f01",
   "metadata": {
    "execution": {
     "iopub.execute_input": "2024-01-21T08:33:17.309704Z",
     "iopub.status.busy": "2024-01-21T08:33:17.309204Z",
     "iopub.status.idle": "2024-01-21T08:33:17.339181Z",
     "shell.execute_reply": "2024-01-21T08:33:17.338247Z",
     "shell.execute_reply.started": "2024-01-21T08:33:17.309665Z"
    },
    "papermill": {
     "duration": null,
     "end_time": null,
     "exception": null,
     "start_time": null,
     "status": "pending"
    },
    "tags": []
   },
   "outputs": [],
   "source": [
    "from sklearn.neighbors import KNeighborsClassifier  \n",
    "classifier= KNeighborsClassifier(n_neighbors=2, metric='euclidean')  \n",
    "classifier.fit(X_train, y_train)\n",
    "y_pred3=classifier.predict(X_test)\n",
    "print(classification_report(y_test,y_pred3))"
   ]
  },
  {
   "cell_type": "code",
   "execution_count": null,
   "id": "73fb61dc",
   "metadata": {
    "execution": {
     "iopub.execute_input": "2024-01-21T08:33:18.828147Z",
     "iopub.status.busy": "2024-01-21T08:33:18.827647Z",
     "iopub.status.idle": "2024-01-21T08:33:18.838631Z",
     "shell.execute_reply": "2024-01-21T08:33:18.837603Z",
     "shell.execute_reply.started": "2024-01-21T08:33:18.828105Z"
    },
    "papermill": {
     "duration": null,
     "end_time": null,
     "exception": null,
     "start_time": null,
     "status": "pending"
    },
    "tags": []
   },
   "outputs": [],
   "source": [
    "confusion_matrix(y_test,y_pred3)"
   ]
  },
  {
   "cell_type": "code",
   "execution_count": null,
   "id": "35d84443",
   "metadata": {
    "execution": {
     "iopub.status.busy": "2024-01-21T08:31:42.575748Z",
     "iopub.status.idle": "2024-01-21T08:31:42.576515Z",
     "shell.execute_reply": "2024-01-21T08:31:42.576206Z",
     "shell.execute_reply.started": "2024-01-21T08:31:42.576159Z"
    },
    "papermill": {
     "duration": null,
     "end_time": null,
     "exception": null,
     "start_time": null,
     "status": "pending"
    },
    "tags": []
   },
   "outputs": [],
   "source": [
    "#sl_no: It stands for \"serial number\" and refers to a unique identifier assigned to each entry or record in a dataset. It helps in distinguishing and tracking individual data points.\n",
    "\n",
    "#gender: It represents the gender of an individual, typically categorized as male or female. In the given context, it indicates the gender of a person associated with other parameters.\n",
    "\n",
    "#ssc_p: It refers to the percentage of marks obtained by a person in their secondary school examination (SSC), such as the 10th grade or equivalent.\n",
    "\n",
    "#ssc_b: It stands for \"secondary school board\" and represents the education board or institution where the person completed their secondary school education (e.g., CBSE, ICSE, State Board).\n",
    "\n",
    "#hsc_p: It indicates the percentage of marks obtained by an individual in their higher secondary examination (HSC), such as the 12th grade or equivalent.\n",
    "\n",
    "#hsc_b: Similar to ssc_b, hsc_b represents the education board or institution where the person completed their higher secondary education.\n",
    "\n",
    "#hsc_s: It stands for \"higher secondary stream\" and denotes the stream or subject specialization chosen by an individual during their higher secondary education (e.g., Science, Commerce, Arts).\n",
    "\n",
    "#degree_p: It refers to the percentage of marks obtained by a person in their undergraduate degree program, such as a bachelor's degree.\n",
    "\n",
    "#degree_t: It represents the type of undergraduate degree pursued by an individual (e.g., Science, Commerce, Arts) and provides information about their field of study.\n",
    "\n",
    "#workex: It is a binary variable that indicates whether an individual has prior work experience or not. It is typically represented as \"Yes\" or \"No.\"\n",
    "\n",
    "#etest_p: It denotes the percentage of marks obtained by a person in an employability test, which is often conducted as part of the selection process for job placements or higher education.\n",
    "\n",
    "#specialisation: In the given context, it refers to the area of specialization chosen by an individual during their postgraduate studies (e.g., Marketing, Finance, Human Resources).\n",
    "\n",
    "#mba_p: It represents the percentage of marks obtained by an individual in their Master of Business Administration (MBA) program or a similar postgraduate business management degree.\n",
    "\n",
    "#status: It indicates the employment status of an individual, typically represented as \"Placed\" or \"Not Placed.\" It signifies whether the person has secured a job placement or not.\n",
    "\n",
    "#salary: This term represents the salary or income earned by an individual after securing a job placement. It denotes the financial compensation received for their employment.\n",
    "\n",
    "#These terms are commonly used in the context of educational and job placement datasets, where various factors and attributes of individuals are recorded for analysis and decision-making purposes.\n",
    "\n",
    "\n",
    "\n"
   ]
  }
 ],
 "metadata": {
  "kaggle": {
   "accelerator": "none",
   "dataSources": [
    {
     "datasetId": 840059,
     "sourceId": 1433970,
     "sourceType": "datasetVersion"
    }
   ],
   "dockerImageVersionId": 30635,
   "isGpuEnabled": false,
   "isInternetEnabled": true,
   "language": "python",
   "sourceType": "notebook"
  },
  "kernelspec": {
   "display_name": "Python 3",
   "language": "python",
   "name": "python3"
  },
  "language_info": {
   "codemirror_mode": {
    "name": "ipython",
    "version": 3
   },
   "file_extension": ".py",
   "mimetype": "text/x-python",
   "name": "python",
   "nbconvert_exporter": "python",
   "pygments_lexer": "ipython3",
   "version": "3.10.12"
  },
  "papermill": {
   "default_parameters": {},
   "duration": 8.538869,
   "end_time": "2024-02-13T10:37:56.790488",
   "environment_variables": {},
   "exception": true,
   "input_path": "__notebook__.ipynb",
   "output_path": "__notebook__.ipynb",
   "parameters": {},
   "start_time": "2024-02-13T10:37:48.251619",
   "version": "2.4.0"
  }
 },
 "nbformat": 4,
 "nbformat_minor": 5
}
